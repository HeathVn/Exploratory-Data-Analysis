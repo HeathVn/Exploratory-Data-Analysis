{
 "cells": [
  {
   "cell_type": "code",
   "execution_count": 2,
   "id": "b5643275",
   "metadata": {},
   "outputs": [
    {
     "name": "stdout",
     "output_type": "stream",
     "text": [
      "Requirement already satisfied: kneed in ./opt/anaconda3/lib/python3.8/site-packages (0.8.5)\r\n",
      "Requirement already satisfied: scipy>=1.0.0 in ./opt/anaconda3/lib/python3.8/site-packages (from kneed) (1.6.2)\r\n",
      "Requirement already satisfied: numpy>=1.14.2 in ./opt/anaconda3/lib/python3.8/site-packages (from kneed) (1.20.1)\r\n"
     ]
    }
   ],
   "source": [
    "import numpy as np\n",
    "import pandas as pd\n",
    "\n",
    "!pip install kneed\n",
    "\n",
    "import matplotlib.pyplot as plt\n",
    "from sklearn.cluster import KMeans\n",
    "from sklearn.cluster import DBSCAN\n",
    "from sklearn.cluster import AffinityPropagation\n",
    "from sklearn.cluster import KMeans\n",
    "from sklearn.manifold import TSNE\n",
    "from kneed import KneeLocator, DataGenerator as dg\n",
    "\n",
    "from sklearn.metrics import silhouette_samples, silhouette_score\n",
    "from sklearn.metrics.pairwise import cosine_similarity\n",
    "import seaborn as sns"
   ]
  },
  {
   "cell_type": "code",
   "execution_count": 3,
   "id": "faf70f59",
   "metadata": {},
   "outputs": [],
   "source": [
    "df = pd.read_csv(\"hw2_dataset.csv\")"
   ]
  },
  {
   "cell_type": "code",
   "execution_count": 4,
   "id": "e1e23969",
   "metadata": {},
   "outputs": [
    {
     "data": {
      "text/html": [
       "<div>\n",
       "<style scoped>\n",
       "    .dataframe tbody tr th:only-of-type {\n",
       "        vertical-align: middle;\n",
       "    }\n",
       "\n",
       "    .dataframe tbody tr th {\n",
       "        vertical-align: top;\n",
       "    }\n",
       "\n",
       "    .dataframe thead th {\n",
       "        text-align: right;\n",
       "    }\n",
       "</style>\n",
       "<table border=\"1\" class=\"dataframe\">\n",
       "  <thead>\n",
       "    <tr style=\"text-align: right;\">\n",
       "      <th></th>\n",
       "      <th>ID</th>\n",
       "      <th>D_0</th>\n",
       "      <th>D_1</th>\n",
       "      <th>D_2</th>\n",
       "      <th>D_3</th>\n",
       "      <th>D_4</th>\n",
       "      <th>D_5</th>\n",
       "      <th>D_6</th>\n",
       "      <th>D_7</th>\n",
       "      <th>D_8</th>\n",
       "      <th>...</th>\n",
       "      <th>D_1014</th>\n",
       "      <th>D_1015</th>\n",
       "      <th>D_1016</th>\n",
       "      <th>D_1017</th>\n",
       "      <th>D_1018</th>\n",
       "      <th>D_1019</th>\n",
       "      <th>D_1020</th>\n",
       "      <th>D_1021</th>\n",
       "      <th>D_1022</th>\n",
       "      <th>D_1023</th>\n",
       "    </tr>\n",
       "  </thead>\n",
       "  <tbody>\n",
       "    <tr>\n",
       "      <th>0</th>\n",
       "      <td>AAEAMMIUQZAASJ-MRXNPFEDSA-N</td>\n",
       "      <td>1</td>\n",
       "      <td>1</td>\n",
       "      <td>1</td>\n",
       "      <td>1</td>\n",
       "      <td>1</td>\n",
       "      <td>1</td>\n",
       "      <td>1</td>\n",
       "      <td>0</td>\n",
       "      <td>1</td>\n",
       "      <td>...</td>\n",
       "      <td>1</td>\n",
       "      <td>1</td>\n",
       "      <td>1</td>\n",
       "      <td>1</td>\n",
       "      <td>1</td>\n",
       "      <td>1</td>\n",
       "      <td>0</td>\n",
       "      <td>1</td>\n",
       "      <td>1</td>\n",
       "      <td>1</td>\n",
       "    </tr>\n",
       "    <tr>\n",
       "      <th>1</th>\n",
       "      <td>AAEFNWQXBPYXAC-UHFFFAOYSA-N</td>\n",
       "      <td>1</td>\n",
       "      <td>1</td>\n",
       "      <td>1</td>\n",
       "      <td>1</td>\n",
       "      <td>0</td>\n",
       "      <td>1</td>\n",
       "      <td>1</td>\n",
       "      <td>1</td>\n",
       "      <td>0</td>\n",
       "      <td>...</td>\n",
       "      <td>1</td>\n",
       "      <td>0</td>\n",
       "      <td>1</td>\n",
       "      <td>1</td>\n",
       "      <td>1</td>\n",
       "      <td>0</td>\n",
       "      <td>0</td>\n",
       "      <td>1</td>\n",
       "      <td>1</td>\n",
       "      <td>1</td>\n",
       "    </tr>\n",
       "    <tr>\n",
       "      <th>2</th>\n",
       "      <td>AAMHSIWFDKXUMZ-UHFFFAOYSA-N</td>\n",
       "      <td>1</td>\n",
       "      <td>1</td>\n",
       "      <td>1</td>\n",
       "      <td>1</td>\n",
       "      <td>1</td>\n",
       "      <td>1</td>\n",
       "      <td>0</td>\n",
       "      <td>1</td>\n",
       "      <td>1</td>\n",
       "      <td>...</td>\n",
       "      <td>1</td>\n",
       "      <td>1</td>\n",
       "      <td>1</td>\n",
       "      <td>1</td>\n",
       "      <td>1</td>\n",
       "      <td>1</td>\n",
       "      <td>0</td>\n",
       "      <td>0</td>\n",
       "      <td>1</td>\n",
       "      <td>1</td>\n",
       "    </tr>\n",
       "    <tr>\n",
       "      <th>3</th>\n",
       "      <td>AAPQXEOSVSLLMB-UHFFFAOYSA-N</td>\n",
       "      <td>1</td>\n",
       "      <td>1</td>\n",
       "      <td>1</td>\n",
       "      <td>1</td>\n",
       "      <td>0</td>\n",
       "      <td>1</td>\n",
       "      <td>1</td>\n",
       "      <td>1</td>\n",
       "      <td>1</td>\n",
       "      <td>...</td>\n",
       "      <td>1</td>\n",
       "      <td>1</td>\n",
       "      <td>1</td>\n",
       "      <td>1</td>\n",
       "      <td>1</td>\n",
       "      <td>1</td>\n",
       "      <td>1</td>\n",
       "      <td>1</td>\n",
       "      <td>1</td>\n",
       "      <td>1</td>\n",
       "    </tr>\n",
       "    <tr>\n",
       "      <th>4</th>\n",
       "      <td>AARXXEHXOBTROW-UHFFFAOYSA-N</td>\n",
       "      <td>1</td>\n",
       "      <td>1</td>\n",
       "      <td>1</td>\n",
       "      <td>1</td>\n",
       "      <td>1</td>\n",
       "      <td>1</td>\n",
       "      <td>1</td>\n",
       "      <td>0</td>\n",
       "      <td>1</td>\n",
       "      <td>...</td>\n",
       "      <td>1</td>\n",
       "      <td>1</td>\n",
       "      <td>1</td>\n",
       "      <td>1</td>\n",
       "      <td>1</td>\n",
       "      <td>1</td>\n",
       "      <td>0</td>\n",
       "      <td>1</td>\n",
       "      <td>1</td>\n",
       "      <td>1</td>\n",
       "    </tr>\n",
       "    <tr>\n",
       "      <th>...</th>\n",
       "      <td>...</td>\n",
       "      <td>...</td>\n",
       "      <td>...</td>\n",
       "      <td>...</td>\n",
       "      <td>...</td>\n",
       "      <td>...</td>\n",
       "      <td>...</td>\n",
       "      <td>...</td>\n",
       "      <td>...</td>\n",
       "      <td>...</td>\n",
       "      <td>...</td>\n",
       "      <td>...</td>\n",
       "      <td>...</td>\n",
       "      <td>...</td>\n",
       "      <td>...</td>\n",
       "      <td>...</td>\n",
       "      <td>...</td>\n",
       "      <td>...</td>\n",
       "      <td>...</td>\n",
       "      <td>...</td>\n",
       "      <td>...</td>\n",
       "    </tr>\n",
       "    <tr>\n",
       "      <th>964</th>\n",
       "      <td>ZSRJHGJCRGZJNH-UHFFFAOYSA-N</td>\n",
       "      <td>1</td>\n",
       "      <td>1</td>\n",
       "      <td>1</td>\n",
       "      <td>1</td>\n",
       "      <td>1</td>\n",
       "      <td>1</td>\n",
       "      <td>1</td>\n",
       "      <td>1</td>\n",
       "      <td>1</td>\n",
       "      <td>...</td>\n",
       "      <td>1</td>\n",
       "      <td>1</td>\n",
       "      <td>1</td>\n",
       "      <td>1</td>\n",
       "      <td>1</td>\n",
       "      <td>1</td>\n",
       "      <td>0</td>\n",
       "      <td>1</td>\n",
       "      <td>1</td>\n",
       "      <td>1</td>\n",
       "    </tr>\n",
       "    <tr>\n",
       "      <th>965</th>\n",
       "      <td>ZTCGLAMYEAGAAN-UHFFFAOYSA-N</td>\n",
       "      <td>1</td>\n",
       "      <td>1</td>\n",
       "      <td>1</td>\n",
       "      <td>1</td>\n",
       "      <td>1</td>\n",
       "      <td>1</td>\n",
       "      <td>1</td>\n",
       "      <td>0</td>\n",
       "      <td>0</td>\n",
       "      <td>...</td>\n",
       "      <td>1</td>\n",
       "      <td>1</td>\n",
       "      <td>1</td>\n",
       "      <td>1</td>\n",
       "      <td>1</td>\n",
       "      <td>0</td>\n",
       "      <td>0</td>\n",
       "      <td>1</td>\n",
       "      <td>1</td>\n",
       "      <td>1</td>\n",
       "    </tr>\n",
       "    <tr>\n",
       "      <th>966</th>\n",
       "      <td>ZVWRFVCNQOECJS-UHFFFAOYSA-N</td>\n",
       "      <td>1</td>\n",
       "      <td>0</td>\n",
       "      <td>1</td>\n",
       "      <td>1</td>\n",
       "      <td>1</td>\n",
       "      <td>1</td>\n",
       "      <td>0</td>\n",
       "      <td>1</td>\n",
       "      <td>0</td>\n",
       "      <td>...</td>\n",
       "      <td>1</td>\n",
       "      <td>0</td>\n",
       "      <td>1</td>\n",
       "      <td>0</td>\n",
       "      <td>0</td>\n",
       "      <td>0</td>\n",
       "      <td>0</td>\n",
       "      <td>0</td>\n",
       "      <td>0</td>\n",
       "      <td>1</td>\n",
       "    </tr>\n",
       "    <tr>\n",
       "      <th>967</th>\n",
       "      <td>ZXAGZULZCKUUKQ-UHFFFAOYSA-N</td>\n",
       "      <td>1</td>\n",
       "      <td>1</td>\n",
       "      <td>1</td>\n",
       "      <td>1</td>\n",
       "      <td>1</td>\n",
       "      <td>1</td>\n",
       "      <td>1</td>\n",
       "      <td>0</td>\n",
       "      <td>0</td>\n",
       "      <td>...</td>\n",
       "      <td>1</td>\n",
       "      <td>1</td>\n",
       "      <td>1</td>\n",
       "      <td>1</td>\n",
       "      <td>1</td>\n",
       "      <td>0</td>\n",
       "      <td>0</td>\n",
       "      <td>1</td>\n",
       "      <td>1</td>\n",
       "      <td>1</td>\n",
       "    </tr>\n",
       "    <tr>\n",
       "      <th>968</th>\n",
       "      <td>ZXUIBIOEWLNNLY-UHFFFAOYSA-N</td>\n",
       "      <td>1</td>\n",
       "      <td>1</td>\n",
       "      <td>1</td>\n",
       "      <td>1</td>\n",
       "      <td>0</td>\n",
       "      <td>1</td>\n",
       "      <td>0</td>\n",
       "      <td>0</td>\n",
       "      <td>0</td>\n",
       "      <td>...</td>\n",
       "      <td>0</td>\n",
       "      <td>0</td>\n",
       "      <td>1</td>\n",
       "      <td>1</td>\n",
       "      <td>1</td>\n",
       "      <td>0</td>\n",
       "      <td>0</td>\n",
       "      <td>0</td>\n",
       "      <td>1</td>\n",
       "      <td>1</td>\n",
       "    </tr>\n",
       "  </tbody>\n",
       "</table>\n",
       "<p>969 rows × 1025 columns</p>\n",
       "</div>"
      ],
      "text/plain": [
       "                              ID  D_0  D_1  D_2  D_3  D_4  D_5  D_6  D_7  D_8  \\\n",
       "0    AAEAMMIUQZAASJ-MRXNPFEDSA-N    1    1    1    1    1    1    1    0    1   \n",
       "1    AAEFNWQXBPYXAC-UHFFFAOYSA-N    1    1    1    1    0    1    1    1    0   \n",
       "2    AAMHSIWFDKXUMZ-UHFFFAOYSA-N    1    1    1    1    1    1    0    1    1   \n",
       "3    AAPQXEOSVSLLMB-UHFFFAOYSA-N    1    1    1    1    0    1    1    1    1   \n",
       "4    AARXXEHXOBTROW-UHFFFAOYSA-N    1    1    1    1    1    1    1    0    1   \n",
       "..                           ...  ...  ...  ...  ...  ...  ...  ...  ...  ...   \n",
       "964  ZSRJHGJCRGZJNH-UHFFFAOYSA-N    1    1    1    1    1    1    1    1    1   \n",
       "965  ZTCGLAMYEAGAAN-UHFFFAOYSA-N    1    1    1    1    1    1    1    0    0   \n",
       "966  ZVWRFVCNQOECJS-UHFFFAOYSA-N    1    0    1    1    1    1    0    1    0   \n",
       "967  ZXAGZULZCKUUKQ-UHFFFAOYSA-N    1    1    1    1    1    1    1    0    0   \n",
       "968  ZXUIBIOEWLNNLY-UHFFFAOYSA-N    1    1    1    1    0    1    0    0    0   \n",
       "\n",
       "     ...  D_1014  D_1015  D_1016  D_1017  D_1018  D_1019  D_1020  D_1021  \\\n",
       "0    ...       1       1       1       1       1       1       0       1   \n",
       "1    ...       1       0       1       1       1       0       0       1   \n",
       "2    ...       1       1       1       1       1       1       0       0   \n",
       "3    ...       1       1       1       1       1       1       1       1   \n",
       "4    ...       1       1       1       1       1       1       0       1   \n",
       "..   ...     ...     ...     ...     ...     ...     ...     ...     ...   \n",
       "964  ...       1       1       1       1       1       1       0       1   \n",
       "965  ...       1       1       1       1       1       0       0       1   \n",
       "966  ...       1       0       1       0       0       0       0       0   \n",
       "967  ...       1       1       1       1       1       0       0       1   \n",
       "968  ...       0       0       1       1       1       0       0       0   \n",
       "\n",
       "     D_1022  D_1023  \n",
       "0         1       1  \n",
       "1         1       1  \n",
       "2         1       1  \n",
       "3         1       1  \n",
       "4         1       1  \n",
       "..      ...     ...  \n",
       "964       1       1  \n",
       "965       1       1  \n",
       "966       0       1  \n",
       "967       1       1  \n",
       "968       1       1  \n",
       "\n",
       "[969 rows x 1025 columns]"
      ]
     },
     "execution_count": 4,
     "metadata": {},
     "output_type": "execute_result"
    }
   ],
   "source": [
    "df"
   ]
  },
  {
   "cell_type": "code",
   "execution_count": 5,
   "id": "9901b1f6",
   "metadata": {},
   "outputs": [
    {
     "data": {
      "text/plain": [
       "<bound method NDFrame.head of                               ID  D_0  D_1  D_2  D_3  D_4  D_5  D_6  D_7  D_8  \\\n",
       "0    AAEAMMIUQZAASJ-MRXNPFEDSA-N    1    1    1    1    1    1    1    0    1   \n",
       "1    AAEFNWQXBPYXAC-UHFFFAOYSA-N    1    1    1    1    0    1    1    1    0   \n",
       "2    AAMHSIWFDKXUMZ-UHFFFAOYSA-N    1    1    1    1    1    1    0    1    1   \n",
       "3    AAPQXEOSVSLLMB-UHFFFAOYSA-N    1    1    1    1    0    1    1    1    1   \n",
       "4    AARXXEHXOBTROW-UHFFFAOYSA-N    1    1    1    1    1    1    1    0    1   \n",
       "..                           ...  ...  ...  ...  ...  ...  ...  ...  ...  ...   \n",
       "964  ZSRJHGJCRGZJNH-UHFFFAOYSA-N    1    1    1    1    1    1    1    1    1   \n",
       "965  ZTCGLAMYEAGAAN-UHFFFAOYSA-N    1    1    1    1    1    1    1    0    0   \n",
       "966  ZVWRFVCNQOECJS-UHFFFAOYSA-N    1    0    1    1    1    1    0    1    0   \n",
       "967  ZXAGZULZCKUUKQ-UHFFFAOYSA-N    1    1    1    1    1    1    1    0    0   \n",
       "968  ZXUIBIOEWLNNLY-UHFFFAOYSA-N    1    1    1    1    0    1    0    0    0   \n",
       "\n",
       "     ...  D_1014  D_1015  D_1016  D_1017  D_1018  D_1019  D_1020  D_1021  \\\n",
       "0    ...       1       1       1       1       1       1       0       1   \n",
       "1    ...       1       0       1       1       1       0       0       1   \n",
       "2    ...       1       1       1       1       1       1       0       0   \n",
       "3    ...       1       1       1       1       1       1       1       1   \n",
       "4    ...       1       1       1       1       1       1       0       1   \n",
       "..   ...     ...     ...     ...     ...     ...     ...     ...     ...   \n",
       "964  ...       1       1       1       1       1       1       0       1   \n",
       "965  ...       1       1       1       1       1       0       0       1   \n",
       "966  ...       1       0       1       0       0       0       0       0   \n",
       "967  ...       1       1       1       1       1       0       0       1   \n",
       "968  ...       0       0       1       1       1       0       0       0   \n",
       "\n",
       "     D_1022  D_1023  \n",
       "0         1       1  \n",
       "1         1       1  \n",
       "2         1       1  \n",
       "3         1       1  \n",
       "4         1       1  \n",
       "..      ...     ...  \n",
       "964       1       1  \n",
       "965       1       1  \n",
       "966       0       1  \n",
       "967       1       1  \n",
       "968       1       1  \n",
       "\n",
       "[969 rows x 1025 columns]>"
      ]
     },
     "execution_count": 5,
     "metadata": {},
     "output_type": "execute_result"
    }
   ],
   "source": [
    "df.head"
   ]
  },
  {
   "cell_type": "code",
   "execution_count": 6,
   "id": "5d2e6c79",
   "metadata": {},
   "outputs": [
    {
     "data": {
      "text/plain": [
       "ID        object\n",
       "D_0        int64\n",
       "D_1        int64\n",
       "D_2        int64\n",
       "D_3        int64\n",
       "           ...  \n",
       "D_1019     int64\n",
       "D_1020     int64\n",
       "D_1021     int64\n",
       "D_1022     int64\n",
       "D_1023     int64\n",
       "Length: 1025, dtype: object"
      ]
     },
     "execution_count": 6,
     "metadata": {},
     "output_type": "execute_result"
    }
   ],
   "source": [
    "df.dtypes"
   ]
  },
  {
   "cell_type": "code",
   "execution_count": 7,
   "id": "7cb8b7ed",
   "metadata": {
    "scrolled": true
   },
   "outputs": [
    {
     "name": "stdout",
     "output_type": "stream",
     "text": [
      "<class 'pandas.core.frame.DataFrame'>\n",
      "RangeIndex: 969 entries, 0 to 968\n",
      "Columns: 1025 entries, ID to D_1023\n",
      "dtypes: int64(1024), object(1)\n",
      "memory usage: 7.6+ MB\n"
     ]
    }
   ],
   "source": [
    "df.info()"
   ]
  },
  {
   "cell_type": "markdown",
   "id": "6d520b6d",
   "metadata": {},
   "source": [
    "### K-Means Clustering Elbow Method"
   ]
  },
  {
   "cell_type": "code",
   "execution_count": 8,
   "id": "447939a4",
   "metadata": {},
   "outputs": [
    {
     "data": {
      "image/png": "[encoded data removed]",
      "text/plain": [
       "<Figure size 432x288 with 1 Axes>"
      ]
     },
     "metadata": {
      "needs_background": "light"
     },
     "output_type": "display_data"
    }
   ],
   "source": [
    "dist = []\n",
    "df2 = df[df.columns[1:]]\n",
    "\n",
    "for k in range(1, 30):\n",
    "    \n",
    "    kmean_model = KMeans(n_clusters=k)\n",
    "    kmean_model.fit(df2)\n",
    "    dist.append(kmean_model.inertia_)\n",
    "    \n",
    " \n",
    "    \n",
    "plt.plot(range(1, 30), dist)\n",
    "plt.show()\n",
    "    \n",
    "    "
   ]
  },
  {
   "cell_type": "markdown",
   "id": "9c564d9e",
   "metadata": {},
   "source": [
    "A range of K was selected so that multiple values of K could be tested to find the best cluster value for KMeans."
   ]
  },
  {
   "cell_type": "code",
   "execution_count": 9,
   "id": "4dc7e860",
   "metadata": {},
   "outputs": [
    {
     "name": "stdout",
     "output_type": "stream",
     "text": [
      "0.31843195982890066\n"
     ]
    }
   ],
   "source": [
    "kmeans = KMeans(n_clusters = 9)\n",
    "kmeans_graph = kmeans.fit(df2)\n",
    "labels = kmeans.fit_predict(df2)\n",
    "\n",
    "silhouette_avg = silhouette_score(df2, labels)\n",
    "print(silhouette_avg)"
   ]
  },
  {
   "cell_type": "markdown",
   "id": "da331424",
   "metadata": {},
   "source": [
    "Once best K value was identified, this k value was used to fit the data using KMeans."
   ]
  },
  {
   "cell_type": "markdown",
   "id": "01cd865d",
   "metadata": {},
   "source": [
    "### KneeLocator method - used to find best k value"
   ]
  },
  {
   "cell_type": "code",
   "execution_count": 10,
   "id": "9862b7b1",
   "metadata": {},
   "outputs": [
    {
     "data": {
      "image/png": "[encoded data removed]",
      "text/plain": [
       "<Figure size 432x432 with 1 Axes>"
      ]
     },
     "metadata": {
      "needs_background": "light"
     },
     "output_type": "display_data"
    }
   ],
   "source": [
    "\n",
    "kl = KneeLocator(range(1, 30), dist, curve=\"convex\",direction=\"decreasing\")\n",
    "kl.plot_knee()"
   ]
  },
  {
   "cell_type": "code",
   "execution_count": 11,
   "id": "ea119124",
   "metadata": {},
   "outputs": [
    {
     "data": {
      "text/html": [
       "<div>\n",
       "<style scoped>\n",
       "    .dataframe tbody tr th:only-of-type {\n",
       "        vertical-align: middle;\n",
       "    }\n",
       "\n",
       "    .dataframe tbody tr th {\n",
       "        vertical-align: top;\n",
       "    }\n",
       "\n",
       "    .dataframe thead th {\n",
       "        text-align: right;\n",
       "    }\n",
       "</style>\n",
       "<table border=\"1\" class=\"dataframe\">\n",
       "  <thead>\n",
       "    <tr style=\"text-align: right;\">\n",
       "      <th></th>\n",
       "      <th>D_0</th>\n",
       "      <th>D_1</th>\n",
       "      <th>D_2</th>\n",
       "      <th>D_3</th>\n",
       "      <th>D_4</th>\n",
       "      <th>D_5</th>\n",
       "      <th>D_6</th>\n",
       "      <th>D_7</th>\n",
       "      <th>D_8</th>\n",
       "      <th>D_9</th>\n",
       "      <th>...</th>\n",
       "      <th>D_1014</th>\n",
       "      <th>D_1015</th>\n",
       "      <th>D_1016</th>\n",
       "      <th>D_1017</th>\n",
       "      <th>D_1018</th>\n",
       "      <th>D_1019</th>\n",
       "      <th>D_1020</th>\n",
       "      <th>D_1021</th>\n",
       "      <th>D_1022</th>\n",
       "      <th>D_1023</th>\n",
       "    </tr>\n",
       "  </thead>\n",
       "  <tbody>\n",
       "    <tr>\n",
       "      <th>0</th>\n",
       "      <td>1</td>\n",
       "      <td>1</td>\n",
       "      <td>1</td>\n",
       "      <td>1</td>\n",
       "      <td>1</td>\n",
       "      <td>1</td>\n",
       "      <td>1</td>\n",
       "      <td>0</td>\n",
       "      <td>1</td>\n",
       "      <td>0</td>\n",
       "      <td>...</td>\n",
       "      <td>1</td>\n",
       "      <td>1</td>\n",
       "      <td>1</td>\n",
       "      <td>1</td>\n",
       "      <td>1</td>\n",
       "      <td>1</td>\n",
       "      <td>0</td>\n",
       "      <td>1</td>\n",
       "      <td>1</td>\n",
       "      <td>1</td>\n",
       "    </tr>\n",
       "    <tr>\n",
       "      <th>1</th>\n",
       "      <td>1</td>\n",
       "      <td>1</td>\n",
       "      <td>1</td>\n",
       "      <td>1</td>\n",
       "      <td>0</td>\n",
       "      <td>1</td>\n",
       "      <td>1</td>\n",
       "      <td>1</td>\n",
       "      <td>0</td>\n",
       "      <td>0</td>\n",
       "      <td>...</td>\n",
       "      <td>1</td>\n",
       "      <td>0</td>\n",
       "      <td>1</td>\n",
       "      <td>1</td>\n",
       "      <td>1</td>\n",
       "      <td>0</td>\n",
       "      <td>0</td>\n",
       "      <td>1</td>\n",
       "      <td>1</td>\n",
       "      <td>1</td>\n",
       "    </tr>\n",
       "    <tr>\n",
       "      <th>2</th>\n",
       "      <td>1</td>\n",
       "      <td>1</td>\n",
       "      <td>1</td>\n",
       "      <td>1</td>\n",
       "      <td>1</td>\n",
       "      <td>1</td>\n",
       "      <td>0</td>\n",
       "      <td>1</td>\n",
       "      <td>1</td>\n",
       "      <td>1</td>\n",
       "      <td>...</td>\n",
       "      <td>1</td>\n",
       "      <td>1</td>\n",
       "      <td>1</td>\n",
       "      <td>1</td>\n",
       "      <td>1</td>\n",
       "      <td>1</td>\n",
       "      <td>0</td>\n",
       "      <td>0</td>\n",
       "      <td>1</td>\n",
       "      <td>1</td>\n",
       "    </tr>\n",
       "    <tr>\n",
       "      <th>3</th>\n",
       "      <td>1</td>\n",
       "      <td>1</td>\n",
       "      <td>1</td>\n",
       "      <td>1</td>\n",
       "      <td>0</td>\n",
       "      <td>1</td>\n",
       "      <td>1</td>\n",
       "      <td>1</td>\n",
       "      <td>1</td>\n",
       "      <td>1</td>\n",
       "      <td>...</td>\n",
       "      <td>1</td>\n",
       "      <td>1</td>\n",
       "      <td>1</td>\n",
       "      <td>1</td>\n",
       "      <td>1</td>\n",
       "      <td>1</td>\n",
       "      <td>1</td>\n",
       "      <td>1</td>\n",
       "      <td>1</td>\n",
       "      <td>1</td>\n",
       "    </tr>\n",
       "    <tr>\n",
       "      <th>4</th>\n",
       "      <td>1</td>\n",
       "      <td>1</td>\n",
       "      <td>1</td>\n",
       "      <td>1</td>\n",
       "      <td>1</td>\n",
       "      <td>1</td>\n",
       "      <td>1</td>\n",
       "      <td>0</td>\n",
       "      <td>1</td>\n",
       "      <td>0</td>\n",
       "      <td>...</td>\n",
       "      <td>1</td>\n",
       "      <td>1</td>\n",
       "      <td>1</td>\n",
       "      <td>1</td>\n",
       "      <td>1</td>\n",
       "      <td>1</td>\n",
       "      <td>0</td>\n",
       "      <td>1</td>\n",
       "      <td>1</td>\n",
       "      <td>1</td>\n",
       "    </tr>\n",
       "  </tbody>\n",
       "</table>\n",
       "<p>5 rows × 1024 columns</p>\n",
       "</div>"
      ],
      "text/plain": [
       "   D_0  D_1  D_2  D_3  D_4  D_5  D_6  D_7  D_8  D_9  ...  D_1014  D_1015  \\\n",
       "0    1    1    1    1    1    1    1    0    1    0  ...       1       1   \n",
       "1    1    1    1    1    0    1    1    1    0    0  ...       1       0   \n",
       "2    1    1    1    1    1    1    0    1    1    1  ...       1       1   \n",
       "3    1    1    1    1    0    1    1    1    1    1  ...       1       1   \n",
       "4    1    1    1    1    1    1    1    0    1    0  ...       1       1   \n",
       "\n",
       "   D_1016  D_1017  D_1018  D_1019  D_1020  D_1021  D_1022  D_1023  \n",
       "0       1       1       1       1       0       1       1       1  \n",
       "1       1       1       1       0       0       1       1       1  \n",
       "2       1       1       1       1       0       0       1       1  \n",
       "3       1       1       1       1       1       1       1       1  \n",
       "4       1       1       1       1       0       1       1       1  \n",
       "\n",
       "[5 rows x 1024 columns]"
      ]
     },
     "execution_count": 11,
     "metadata": {},
     "output_type": "execute_result"
    }
   ],
   "source": [
    "df2.head()"
   ]
  },
  {
   "cell_type": "code",
   "execution_count": 12,
   "id": "6a060c05",
   "metadata": {},
   "outputs": [
    {
     "name": "stdout",
     "output_type": "stream",
     "text": [
      "<class 'pandas.core.frame.DataFrame'>\n",
      "RangeIndex: 969 entries, 0 to 968\n",
      "Columns: 1024 entries, D_0 to D_1023\n",
      "dtypes: int64(1024)\n",
      "memory usage: 7.6 MB\n"
     ]
    }
   ],
   "source": [
    "df2.info()"
   ]
  },
  {
   "cell_type": "markdown",
   "id": "8dd397be",
   "metadata": {},
   "source": [
    "### Kmeans clustering and TSNE Dimension Reduction"
   ]
  },
  {
   "cell_type": "code",
   "execution_count": 13,
   "id": "8038b533",
   "metadata": {},
   "outputs": [],
   "source": [
    "kmeans = KMeans(n_clusters=9).fit(df2)\n",
    "\n",
    "tsne = TSNE(2)\n",
    "reduced = tsne.fit_transform(df2)"
   ]
  },
  {
   "cell_type": "code",
   "execution_count": 28,
   "id": "fceceaf7",
   "metadata": {},
   "outputs": [
    {
     "name": "stderr",
     "output_type": "stream",
     "text": [
      "No handles with labels found to put in legend.\n"
     ]
    },
    {
     "data": {
      "image/png": "[encoded data removed]",
      "text/plain": [
       "<Figure size 360x216 with 1 Axes>"
      ]
     },
     "metadata": {
      "needs_background": "light"
     },
     "output_type": "display_data"
    }
   ],
   "source": [
    "\n",
    "kmeans_scatter = plt.scatter(x=reduced.T[0], y=reduced.T[1], c=kmeans.labels_, cmap='viridis')\n",
    "centers = kmeans.cluster_centers_\n",
    "plt.scatter(centers[:, 0], centers[:, 1], c='red', s=1, alpha=0.5)\n",
    "plt.legend()\n",
    "plt.show()"
   ]
  },
  {
   "cell_type": "code",
   "execution_count": 15,
   "id": "88762c4a",
   "metadata": {},
   "outputs": [],
   "source": [
    "from sklearn.neighbors import NearestNeighbors \n",
    "neighb = NearestNeighbors(n_neighbors=5) \n",
    "nbrs=neighb.fit(df2) \n",
    "distances,indices=nbrs.kneighbors(df2)"
   ]
  },
  {
   "cell_type": "code",
   "execution_count": 16,
   "id": "79de5e68",
   "metadata": {},
   "outputs": [
    {
     "data": {
      "image/png": "[encoded data removed]",
      "text/plain": [
       "<Figure size 360x216 with 1 Axes>"
      ]
     },
     "metadata": {
      "needs_background": "light"
     },
     "output_type": "display_data"
    }
   ],
   "source": [
    "distances = np.sort(distances, axis = 0) \n",
    "distances = distances[:, 4] \n",
    "plt.rcParams['figure.figsize'] = (5,3) \n",
    "plt.plot(distances) \n",
    "plt.show()"
   ]
  },
  {
   "cell_type": "code",
   "execution_count": 17,
   "id": "8a2d6233",
   "metadata": {},
   "outputs": [],
   "source": [
    "\n",
    "clustering = DBSCAN(eps = 12, min_samples = 4).fit(df2) # fitting the model\n",
    "labels = clustering.labels_"
   ]
  },
  {
   "cell_type": "code",
   "execution_count": 18,
   "id": "b8ec7eef",
   "metadata": {},
   "outputs": [
    {
     "data": {
      "image/png": "[encoded data removed]",
      "text/plain": [
       "<Figure size 360x216 with 1 Axes>"
      ]
     },
     "metadata": {
      "needs_background": "light"
     },
     "output_type": "display_data"
    }
   ],
   "source": [
    "plt.scatter(x=reduced.T[0], y=reduced.T[1], c=labels, cmap='viridis')\n",
    "plt.show()"
   ]
  },
  {
   "cell_type": "markdown",
   "id": "be5815fe",
   "metadata": {},
   "source": [
    "### DBSCAN using Cosine distance metric"
   ]
  },
  {
   "cell_type": "code",
   "execution_count": 19,
   "id": "8f09a56b",
   "metadata": {},
   "outputs": [],
   "source": [
    "cos_sim = cosine_similarity(df2)"
   ]
  },
  {
   "cell_type": "code",
   "execution_count": 20,
   "id": "87c8ccbb",
   "metadata": {},
   "outputs": [
    {
     "data": {
      "image/png": "[encoded data removed]",
      "text/plain": [
       "<Figure size 360x216 with 1 Axes>"
      ]
     },
     "metadata": {
      "needs_background": "light"
     },
     "output_type": "display_data"
    }
   ],
   "source": [
    "model_DB = DBSCAN(eps = 0.0006, min_samples =3, metric = 'cosine').fit(cos_sim)\n",
    "labels = model_DB.labels_\n",
    "plt.scatter(x=reduced.T[0], y=reduced.T[1], c=labels, cmap='viridis')\n",
    "plt.show()"
   ]
  },
  {
   "cell_type": "markdown",
   "id": "8e2a8d62",
   "metadata": {},
   "source": [
    "### DBSAN using Jaccard distance metric"
   ]
  },
  {
   "cell_type": "code",
   "execution_count": 21,
   "id": "19482dbc",
   "metadata": {},
   "outputs": [
    {
     "name": "stderr",
     "output_type": "stream",
     "text": [
      "/Users/heathst/opt/anaconda3/lib/python3.8/site-packages/sklearn/metrics/pairwise.py:1776: DataConversionWarning: Data was converted to boolean for metric jaccard\n",
      "  warnings.warn(msg, DataConversionWarning)\n"
     ]
    },
    {
     "data": {
      "image/png": "[encoded data removed]",
      "text/plain": [
       "<Figure size 360x216 with 1 Axes>"
      ]
     },
     "metadata": {
      "needs_background": "light"
     },
     "output_type": "display_data"
    }
   ],
   "source": [
    "model_DB = DBSCAN(eps = 10**-41, min_samples =1, metric = 'jaccard').fit(cos_sim)\n",
    "labels = model_DB.labels_\n",
    "plt.scatter(x=reduced.T[0], y=reduced.T[1], c=labels, cmap='viridis')\n",
    "plt.show()"
   ]
  },
  {
   "cell_type": "markdown",
   "id": "b2a648ca",
   "metadata": {},
   "source": [
    "### Clustering Comparisons"
   ]
  },
  {
   "cell_type": "markdown",
   "id": "50ad3c61",
   "metadata": {},
   "source": [
    "Kmeans, DBScan clustering algorithms were ran on the provided data set using various distance metrics to identify clusters. In order to effeciently run Kmeans the best value for k had to be calculated. The kmeans elbow method and kneelocator algorithms were used to identify best number of cluster for this specific dataset, which was found to be 9 approximately. Once the dataset was fitted using kmeans the next step was to reduce the dimensionality of the dateset into 2 dimensions to allow for proper visualization of the the clustering effect. Following Kmeans clustering, DBSCAN which is another clustering algorithm was used. Before using DBSCAN the best epsilon value had to first be calculated. The epsilon value represents the distance metric used to find nearest neigbours and classify clusters in the dataset. \n",
    "\n",
    "It can be seen that each of the cluster detection algorithms (KMeans, DBSCAN, DBSCAN using cosine distance, DBSCAN using Jaccard) return graphs showing clusters in the exact same position. The difference appears when analyzing what each algorithm classifies as a cluster based on coloring. DBSCAN using cosine distance metric more accurately displays clusters based on clustering, since a few of the clusters are not actually seperate groups as suggested by KMeans and DBSCAN using Jaccard distance metric. Although DBSCAN using Jaccard was ran with a really small value of epsilon, clusters were not properly classified as seen by presentation of clusters with single color. As such DBSCAN with using Jaccard performed the worst in comparison with KMeans and DBSCAN using cosine distance metric."
   ]
  },
  {
   "cell_type": "code",
   "execution_count": null,
   "id": "342a229e",
   "metadata": {},
   "outputs": [],
   "source": []
  }
 ],
 "metadata": {
  "kernelspec": {
   "display_name": "Python 3",
   "language": "python",
   "name": "python3"
  },
  "language_info": {
   "codemirror_mode": {
    "name": "ipython",
    "version": 3
   },
   "file_extension": ".py",
   "mimetype": "text/x-python",
   "name": "python",
   "nbconvert_exporter": "python",
   "pygments_lexer": "ipython3",
   "version": "3.8.8"
  }
 },
 "nbformat": 4,
 "nbformat_minor": 5
}
